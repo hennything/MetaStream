{
 "cells": [
  {
   "cell_type": "code",
   "execution_count": 4,
   "id": "daadba2b",
   "metadata": {},
   "outputs": [],
   "source": [
    "import pandas as pd\n",
    "\n",
    "from sklearn.linear_model import LinearRegression, Ridge, Lasso, SGDClassifier\n",
    "from sklearn.ensemble import RandomForestRegressor, GradientBoostingRegressor\n",
    "from sklearn.gaussian_process import GaussianProcessRegressor\n",
    "\n",
    "import sys\n",
    "sys.path.append(\"..\")\n",
    "from meta_stream import MetaStream"
   ]
  },
  {
   "cell_type": "code",
   "execution_count": 5,
   "id": "aee17aba",
   "metadata": {},
   "outputs": [],
   "source": [
    "df = pd.read_csv(\"../../data/electricity-normalized.csv\")\n",
    "df = df[['period', 'nswprice', 'nswdemand', 'vicprice', 'vicdemand', 'transfer']]"
   ]
  },
  {
   "cell_type": "code",
   "execution_count": 20,
   "id": "74eefd69",
   "metadata": {},
   "outputs": [],
   "source": [
    "# NOTE: list of regression algorithms\n",
    "models =    [\n",
    "            # SVR(),\n",
    "            RandomForestRegressor(random_state=42),\n",
    "            GaussianProcessRegressor(random_state=42),\n",
    "            # LinearRegression(),\n",
    "            # Lasso(),\n",
    "            # Ridge(),\n",
    "            GradientBoostingRegressor(random_state=42)\n",
    "            ]\n",
    "\n",
    "\n",
    "# NOTE: meta-learner\n",
    "meta_learner = SGDClassifier()"
   ]
  },
  {
   "cell_type": "markdown",
   "id": "74581a89",
   "metadata": {},
   "source": [
    "Parameter settings for MetaStream (considering a meta-level window size of 200)"
   ]
  },
  {
   "cell_type": "code",
   "execution_count": 15,
   "id": "794cf8f7",
   "metadata": {},
   "outputs": [],
   "source": [
    "base_data_window = 96*2\n",
    "base_sel_window_size = 48*2\n",
    "meta_data_window = 200"
   ]
  },
  {
   "cell_type": "code",
   "execution_count": 16,
   "id": "5cfd1708",
   "metadata": {},
   "outputs": [],
   "source": [
    "metas = MetaStream(meta_learner, models, base_data_window, base_sel_window_size, meta_data_window)"
   ]
  },
  {
   "cell_type": "code",
   "execution_count": 17,
   "id": "5623e103",
   "metadata": {},
   "outputs": [],
   "source": [
    "metas.base_train(data=df, target='nswdemand')"
   ]
  },
  {
   "cell_type": "code",
   "execution_count": 18,
   "id": "1f549bd6",
   "metadata": {},
   "outputs": [
    {
     "name": "stdout",
     "output_type": "stream",
     "text": [
      "Mean score Recommended 0.29+-0.31\n",
      "0.7\n",
      "Mean score default 0.29+-0.31\n",
      "0.7185185185185186\n",
      "Mean score ensemble 0.57+-0.55\n"
     ]
    }
   ],
   "source": [
    "metas.meta_train(data=df, target='nswdemand', default=True, ensemble=True)"
   ]
  },
  {
   "cell_type": "markdown",
   "id": "0ba27e31",
   "metadata": {},
   "source": [
    "Parameter settings for MetaStream (considering a meta-level window size of 300)"
   ]
  },
  {
   "cell_type": "code",
   "execution_count": 23,
   "id": "37677932",
   "metadata": {},
   "outputs": [],
   "source": [
    "base_data_window = 96*2\n",
    "base_sel_window_size = 48*2\n",
    "meta_data_window = 300"
   ]
  },
  {
   "cell_type": "code",
   "execution_count": 24,
   "id": "1758143d",
   "metadata": {},
   "outputs": [],
   "source": [
    "metas = MetaStream(meta_learner, models, base_data_window, base_sel_window_size, meta_data_window)"
   ]
  },
  {
   "cell_type": "code",
   "execution_count": 25,
   "id": "33c37e9d",
   "metadata": {},
   "outputs": [],
   "source": [
    "metas.base_train(data=df, target='nswdemand')"
   ]
  },
  {
   "cell_type": "code",
   "execution_count": 26,
   "id": "1e0ca7bf",
   "metadata": {},
   "outputs": [
    {
     "name": "stdout",
     "output_type": "stream",
     "text": [
      "Mean score Recommended 0.34+-0.38\n",
      "0.22941176470588234\n",
      "Mean score default 0.29+-0.31\n",
      "0.7470588235294118\n",
      "Mean score ensemble 0.59+-0.59\n"
     ]
    }
   ],
   "source": [
    "metas.meta_train(data=df, target='nswdemand', default=True, ensemble=True)"
   ]
  }
 ],
 "metadata": {
  "kernelspec": {
   "display_name": "adm_env",
   "language": "python",
   "name": "adm_env"
  },
  "language_info": {
   "codemirror_mode": {
    "name": "ipython",
    "version": 3
   },
   "file_extension": ".py",
   "mimetype": "text/x-python",
   "name": "python",
   "nbconvert_exporter": "python",
   "pygments_lexer": "ipython3",
   "version": "3.8.5"
  }
 },
 "nbformat": 4,
 "nbformat_minor": 5
}
