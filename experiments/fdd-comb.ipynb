{
 "cells": [
  {
   "cell_type": "code",
   "execution_count": 1,
   "id": "daadba2b",
   "metadata": {},
   "outputs": [],
   "source": [
    "import pandas as pd\n",
    "import bz2\n",
    "\n",
    "from sklearn.linear_model import LinearRegression, Ridge\n",
    "from sklearn.svm import SVR\n",
    "from sklearn.ensemble import RandomForestRegressor, GradientBoostingRegressor, RandomForestClassifier\n",
    "from sklearn.gaussian_process import GaussianProcessRegressor\n",
    "from sklearn.neighbors import KNeighborsClassifier\n",
    "from sklearn.naive_bayes import GaussianNB\n",
    "from sklearn.tree import DecisionTreeRegressor\n",
    "\n",
    "import sys\n",
    "sys.path.append(\"..\")\n",
    "from meta_stream import MetaStream"
   ]
  },
  {
   "cell_type": "code",
   "execution_count": 2,
   "id": "aee17aba",
   "metadata": {},
   "outputs": [],
   "source": [
    "df_rows = 50000\n",
    "file = bz2.open(\"../../data/DataExpo2009/2008.csv.bz2\", 'r')\n",
    "df = pd.read_csv(file, nrows=df_rows)\n",
    "df = df[['DepTime', 'CRSDepTime', 'CRSArrTime', 'ArrDelay', 'Distance']]\n",
    "df = df.dropna(axis=0, how='any')"
   ]
  },
  {
   "cell_type": "code",
   "execution_count": 3,
   "id": "74eefd69",
   "metadata": {},
   "outputs": [],
   "source": [
    "# NOTE: list of regression algorithms\n",
    "models =    [\n",
    "            RandomForestRegressor(random_state=42),\n",
    "            LinearRegression(),\n",
    "            GradientBoostingRegressor(random_state=42)\n",
    "            ]"
   ]
  },
  {
   "cell_type": "markdown",
   "id": "74581a89",
   "metadata": {},
   "source": [
    "Parameter settings for MetaStream (considering a meta-level window size of 200)"
   ]
  },
  {
   "cell_type": "code",
   "execution_count": 4,
   "id": "794cf8f7",
   "metadata": {},
   "outputs": [],
   "source": [
    "base_data_window = 672\n",
    "base_delay_window = 0\n",
    "base_sel_window_size = 24\n",
    "meta_data_window = 200"
   ]
  },
  {
   "cell_type": "markdown",
   "id": "d9c1ca6b",
   "metadata": {},
   "source": [
    "Use Random Forest Classifier as meta learner"
   ]
  },
  {
   "cell_type": "code",
   "execution_count": 5,
   "id": "5cfd1708",
   "metadata": {},
   "outputs": [
    {
     "name": "stdout",
     "output_type": "stream",
     "text": [
      "Mean score recommended 3.083+-12.389\n",
      "Meta-level score recommended 0.476\n",
      "Mean score default 2.742+-12.458\n",
      "Meta-level score default 0.401\n",
      "Mean score ensemble 3.259+-4.192\n"
     ]
    }
   ],
   "source": [
    "meta_learner = RandomForestClassifier()\n",
    "metas = MetaStream(meta_learner, models, base_data_window, base_delay_window, base_sel_window_size, meta_data_window, strategy='combination', default=True, ensemble=True, pairs=False)\n",
    "metas.base_train(data=df, target='ArrDelay')\n",
    "metas.meta_train(data=df, target='ArrDelay')\n",
    "metas.print_results()"
   ]
  },
  {
   "cell_type": "markdown",
   "id": "3d415a0a",
   "metadata": {},
   "source": [
    "Use KNN Classifier as meta learner"
   ]
  },
  {
   "cell_type": "code",
   "execution_count": 6,
   "id": "1f549bd6",
   "metadata": {},
   "outputs": [
    {
     "name": "stdout",
     "output_type": "stream",
     "text": [
      "Mean score recommended 2.708+-12.168\n",
      "Meta-level score recommended 0.430\n",
      "Mean score default 2.742+-12.458\n",
      "Meta-level score default 0.401\n",
      "Mean score ensemble 3.259+-4.192\n"
     ]
    }
   ],
   "source": [
    "meta_learner = KNeighborsClassifier()\n",
    "metas = MetaStream(meta_learner, models, base_data_window, base_delay_window, base_sel_window_size, meta_data_window, strategy='combination', default=True, ensemble=True, pairs=False)\n",
    "metas.base_train(data=df, target='ArrDelay')\n",
    "metas.meta_train(data=df, target='ArrDelay')\n",
    "metas.print_results()"
   ]
  },
  {
   "cell_type": "markdown",
   "id": "d144657b",
   "metadata": {},
   "source": [
    "Use Naive Bayesian Classifier as meta learner"
   ]
  },
  {
   "cell_type": "code",
   "execution_count": 7,
   "id": "3b781925",
   "metadata": {},
   "outputs": [
    {
     "name": "stdout",
     "output_type": "stream",
     "text": [
      "Mean score recommended 4.006+-8.999\n",
      "Meta-level score recommended 0.781\n",
      "Mean score default 2.742+-12.458\n",
      "Meta-level score default 0.401\n",
      "Mean score ensemble 3.259+-4.192\n"
     ]
    }
   ],
   "source": [
    "meta_learner = GaussianNB()\n",
    "metas = MetaStream(meta_learner, models, base_data_window, base_delay_window, base_sel_window_size, meta_data_window, strategy='combination', default=True, ensemble=True, pairs=False)\n",
    "metas.base_train(data=df, target='ArrDelay')\n",
    "metas.meta_train(data=df, target='ArrDelay')\n",
    "metas.print_results()"
   ]
  },
  {
   "cell_type": "markdown",
   "id": "0ba27e31",
   "metadata": {},
   "source": [
    "Parameter settings for MetaStream (considering a meta-level window size of 300)"
   ]
  },
  {
   "cell_type": "code",
   "execution_count": 8,
   "id": "37677932",
   "metadata": {},
   "outputs": [],
   "source": [
    "base_data_window = 672\n",
    "base_delay_window = 0\n",
    "base_sel_window_size = 24\n",
    "meta_data_window = 300"
   ]
  },
  {
   "cell_type": "markdown",
   "id": "c9798224",
   "metadata": {},
   "source": [
    "Use Random Forest Classifier as meta learner"
   ]
  },
  {
   "cell_type": "code",
   "execution_count": 9,
   "id": "1758143d",
   "metadata": {},
   "outputs": [
    {
     "name": "stdout",
     "output_type": "stream",
     "text": [
      "Mean score recommended 3.128+-12.755\n",
      "Meta-level score recommended 0.457\n",
      "Mean score default 2.764+-12.768\n",
      "Meta-level score default 0.397\n",
      "Mean score ensemble 3.369+-4.274\n"
     ]
    }
   ],
   "source": [
    "meta_learner = RandomForestClassifier()\n",
    "metas = MetaStream(meta_learner, models, base_data_window, base_delay_window, base_sel_window_size, meta_data_window, strategy='combination', default=True, ensemble=True, pairs=False)\n",
    "metas.base_train(data=df, target='ArrDelay')\n",
    "metas.meta_train(data=df, target='ArrDelay')\n",
    "metas.print_results()"
   ]
  },
  {
   "cell_type": "markdown",
   "id": "4ff3a9c2",
   "metadata": {},
   "source": [
    "Use KNN Classifier as meta learner"
   ]
  },
  {
   "cell_type": "code",
   "execution_count": 10,
   "id": "33c37e9d",
   "metadata": {},
   "outputs": [
    {
     "name": "stdout",
     "output_type": "stream",
     "text": [
      "Mean score recommended 2.753+-12.385\n",
      "Meta-level score recommended 0.445\n",
      "Mean score default 2.764+-12.768\n",
      "Meta-level score default 0.397\n",
      "Mean score ensemble 3.369+-4.274\n"
     ]
    }
   ],
   "source": [
    "meta_learner = KNeighborsClassifier()\n",
    "metas = MetaStream(meta_learner, models, base_data_window, base_delay_window, base_sel_window_size, meta_data_window, strategy='combination', default=True, ensemble=True, pairs=False)\n",
    "metas.base_train(data=df, target='ArrDelay')\n",
    "metas.meta_train(data=df, target='ArrDelay')\n",
    "metas.print_results()"
   ]
  },
  {
   "cell_type": "markdown",
   "id": "d8d4fed0",
   "metadata": {},
   "source": [
    "Use Naive Bayesian Classifier as meta learner"
   ]
  },
  {
   "cell_type": "code",
   "execution_count": 11,
   "id": "1e0ca7bf",
   "metadata": {},
   "outputs": [
    {
     "name": "stdout",
     "output_type": "stream",
     "text": [
      "Mean score recommended 3.647+-4.923\n",
      "Meta-level score recommended 0.748\n",
      "Mean score default 2.764+-12.768\n",
      "Meta-level score default 0.397\n",
      "Mean score ensemble 3.369+-4.274\n"
     ]
    }
   ],
   "source": [
    "meta_learner = GaussianNB()\n",
    "metas = MetaStream(meta_learner, models, base_data_window, base_delay_window, base_sel_window_size, meta_data_window, strategy='combination', default=True, ensemble=True, pairs=False)\n",
    "metas.base_train(data=df, target='ArrDelay')\n",
    "metas.meta_train(data=df, target='ArrDelay')\n",
    "metas.print_results()"
   ]
  },
  {
   "cell_type": "code",
   "execution_count": null,
   "id": "b1d349dc",
   "metadata": {},
   "outputs": [],
   "source": []
  }
 ],
 "metadata": {
  "kernelspec": {
   "display_name": "Python 3 (ipykernel)",
   "language": "python",
   "name": "python3"
  },
  "language_info": {
   "codemirror_mode": {
    "name": "ipython",
    "version": 3
   },
   "file_extension": ".py",
   "mimetype": "text/x-python",
   "name": "python",
   "nbconvert_exporter": "python",
   "pygments_lexer": "ipython3",
   "version": "3.8.8"
  }
 },
 "nbformat": 4,
 "nbformat_minor": 5
}
