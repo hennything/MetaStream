{
 "cells": [
  {
   "cell_type": "code",
   "execution_count": 1,
   "id": "daadba2b",
   "metadata": {},
   "outputs": [],
   "source": [
    "import pandas as pd\n",
    "\n",
    "from sklearn.linear_model import LinearRegression, Ridge\n",
    "from sklearn.svm import SVR\n",
    "from sklearn.ensemble import RandomForestRegressor, GradientBoostingRegressor, RandomForestClassifier\n",
    "from sklearn.gaussian_process import GaussianProcessRegressor\n",
    "from sklearn.neighbors import KNeighborsClassifier\n",
    "from sklearn.naive_bayes import GaussianNB\n",
    "from sklearn.tree import DecisionTreeRegressor\n",
    "\n",
    "import sys\n",
    "sys.path.append(\"..\")\n",
    "from meta_stream import MetaStream"
   ]
  },
  {
   "cell_type": "code",
   "execution_count": 2,
   "id": "aee17aba",
   "metadata": {},
   "outputs": [],
   "source": [
    "df = pd.read_csv(\"../../data/electricity-normalized.csv\")\n",
    "df = df[['period', 'nswprice', 'nswdemand', 'vicprice', 'vicdemand', 'transfer']]"
   ]
  },
  {
   "cell_type": "code",
   "execution_count": 3,
   "id": "74eefd69",
   "metadata": {},
   "outputs": [],
   "source": [
    "# NOTE: list of regression algorithms\n",
    "models =    [\n",
    "            RandomForestRegressor(random_state=42),\n",
    "            LinearRegression(),\n",
    "            GradientBoostingRegressor(random_state=42)\n",
    "            ]"
   ]
  },
  {
   "cell_type": "markdown",
   "id": "74581a89",
   "metadata": {},
   "source": [
    "Parameter settings for MetaStream (considering a meta-level window size of 200)"
   ]
  },
  {
   "cell_type": "code",
   "execution_count": 4,
   "id": "794cf8f7",
   "metadata": {},
   "outputs": [],
   "source": [
    "base_data_window = 96*2\n",
    "base_delay_window = 0\n",
    "base_sel_window_size = 48*2\n",
    "meta_data_window = 200"
   ]
  },
  {
   "cell_type": "markdown",
   "id": "d9c1ca6b",
   "metadata": {},
   "source": [
    "Use Random Forest Classifier as meta learner"
   ]
  },
  {
   "cell_type": "code",
   "execution_count": 5,
   "id": "5cfd1708",
   "metadata": {},
   "outputs": [
    {
     "name": "stdout",
     "output_type": "stream",
     "text": [
      "Mean score Recommended 0.276+-0.286\n",
      "Meta-level score Recommended 0.641\n",
      "Mean score default 0.286+-0.309\n",
      "Meta-level score default 0.574\n",
      "Mean score ensemble 0.275+-0.282\n"
     ]
    }
   ],
   "source": [
    "meta_learner = RandomForestClassifier()\n",
    "metas = MetaStream(meta_learner, models, base_data_window, base_delay_window, base_sel_window_size, meta_data_window, strategy='combination')\n",
    "metas.base_train(data=df, target='nswdemand')\n",
    "metas.meta_train(data=df, target='nswdemand', default=True, ensemble=True)"
   ]
  },
  {
   "cell_type": "markdown",
   "id": "3d415a0a",
   "metadata": {},
   "source": [
    "Use KNN Classifier as meta learner"
   ]
  },
  {
   "cell_type": "code",
   "execution_count": 6,
   "id": "1f549bd6",
   "metadata": {},
   "outputs": [
    {
     "name": "stdout",
     "output_type": "stream",
     "text": [
      "Mean score Recommended 0.286+-0.309\n",
      "Meta-level score Recommended 0.574\n",
      "Mean score default 0.286+-0.309\n",
      "Meta-level score default 0.574\n",
      "Mean score ensemble 0.275+-0.282\n"
     ]
    }
   ],
   "source": [
    "meta_learner = KNeighborsClassifier()\n",
    "metas = MetaStream(meta_learner, models, base_data_window, base_delay_window, base_sel_window_size, meta_data_window, strategy='combination')\n",
    "metas.base_train(data=df, target='nswdemand')\n",
    "metas.meta_train(data=df, target='nswdemand', default=True, ensemble=True)"
   ]
  },
  {
   "cell_type": "markdown",
   "id": "d144657b",
   "metadata": {},
   "source": [
    "Use Naive Bayesian Classifier as meta learner"
   ]
  },
  {
   "cell_type": "code",
   "execution_count": 7,
   "id": "3b781925",
   "metadata": {},
   "outputs": [
    {
     "name": "stdout",
     "output_type": "stream",
     "text": [
      "Mean score Recommended 0.275+-0.282\n",
      "Meta-level score Recommended 0.648\n",
      "Mean score default 0.286+-0.309\n",
      "Meta-level score default 0.574\n",
      "Mean score ensemble 0.275+-0.282\n"
     ]
    }
   ],
   "source": [
    "meta_learner = GaussianNB()\n",
    "metas = MetaStream(meta_learner, models, base_data_window, base_delay_window, base_sel_window_size, meta_data_window, strategy='combination')\n",
    "metas.base_train(data=df, target='nswdemand')\n",
    "metas.meta_train(data=df, target='nswdemand', default=True, ensemble=True)"
   ]
  },
  {
   "cell_type": "markdown",
   "id": "0ba27e31",
   "metadata": {},
   "source": [
    "Parameter settings for MetaStream (considering a meta-level window size of 300)"
   ]
  },
  {
   "cell_type": "code",
   "execution_count": 8,
   "id": "37677932",
   "metadata": {},
   "outputs": [],
   "source": [
    "base_data_window = 96*2\n",
    "base_delay_window = 0\n",
    "base_sel_window_size = 48*2\n",
    "meta_data_window = 300"
   ]
  },
  {
   "cell_type": "markdown",
   "id": "c9798224",
   "metadata": {},
   "source": [
    "Use Random Forest Classifier as meta learner"
   ]
  },
  {
   "cell_type": "code",
   "execution_count": 9,
   "id": "1758143d",
   "metadata": {},
   "outputs": [
    {
     "name": "stdout",
     "output_type": "stream",
     "text": [
      "Mean score Recommended 0.268+-0.274\n",
      "Meta-level score Recommended 0.635\n",
      "Mean score default 0.288+-0.312\n",
      "Meta-level score default 0.612\n",
      "Mean score ensemble 0.266+-0.269\n"
     ]
    }
   ],
   "source": [
    "meta_learner = RandomForestClassifier()\n",
    "metas = MetaStream(meta_learner, models, base_data_window, base_delay_window, base_sel_window_size, meta_data_window, strategy='combination')\n",
    "metas.base_train(data=df, target='nswdemand')\n",
    "metas.meta_train(data=df, target='nswdemand', default=True, ensemble=True)"
   ]
  },
  {
   "cell_type": "markdown",
   "id": "4ff3a9c2",
   "metadata": {},
   "source": [
    "Use KNN Classifier as meta learner"
   ]
  },
  {
   "cell_type": "code",
   "execution_count": 10,
   "id": "33c37e9d",
   "metadata": {},
   "outputs": [
    {
     "name": "stdout",
     "output_type": "stream",
     "text": [
      "Mean score Recommended 0.271+-0.281\n",
      "Meta-level score Recommended 0.571\n",
      "Mean score default 0.288+-0.312\n",
      "Meta-level score default 0.612\n",
      "Mean score ensemble 0.266+-0.269\n"
     ]
    }
   ],
   "source": [
    "meta_learner = KNeighborsClassifier()\n",
    "metas = MetaStream(meta_learner, models, base_data_window, base_delay_window, base_sel_window_size, meta_data_window, strategy='combination')\n",
    "metas.base_train(data=df, target='nswdemand')\n",
    "metas.meta_train(data=df, target='nswdemand', default=True, ensemble=True)"
   ]
  },
  {
   "cell_type": "markdown",
   "id": "d8d4fed0",
   "metadata": {},
   "source": [
    "Use Naive Bayesian Classifier as meta learner"
   ]
  },
  {
   "cell_type": "code",
   "execution_count": 11,
   "id": "1e0ca7bf",
   "metadata": {},
   "outputs": [
    {
     "name": "stdout",
     "output_type": "stream",
     "text": [
      "Mean score Recommended 0.403+-0.339\n",
      "Meta-level score Recommended 0.876\n",
      "Mean score default 0.288+-0.312\n",
      "Meta-level score default 0.612\n",
      "Mean score ensemble 0.266+-0.269\n"
     ]
    }
   ],
   "source": [
    "meta_learner = GaussianNB()\n",
    "metas = MetaStream(meta_learner, models, base_data_window, base_delay_window, base_sel_window_size, meta_data_window, strategy='combination')\n",
    "metas.base_train(data=df, target='nswdemand')\n",
    "metas.meta_train(data=df, target='nswdemand', default=True, ensemble=True)"
   ]
  },
  {
   "cell_type": "code",
   "execution_count": null,
   "id": "b1d349dc",
   "metadata": {},
   "outputs": [],
   "source": []
  }
 ],
 "metadata": {
  "kernelspec": {
   "display_name": "Python 3",
   "language": "python",
   "name": "python3"
  },
  "language_info": {
   "codemirror_mode": {
    "name": "ipython",
    "version": 3
   },
   "file_extension": ".py",
   "mimetype": "text/x-python",
   "name": "python",
   "nbconvert_exporter": "python",
   "pygments_lexer": "ipython3",
   "version": "3.8.8"
  }
 },
 "nbformat": 4,
 "nbformat_minor": 5
}
