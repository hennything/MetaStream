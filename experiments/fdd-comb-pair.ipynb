{
 "cells": [
  {
   "cell_type": "code",
   "execution_count": 1,
   "id": "daadba2b",
   "metadata": {},
   "outputs": [],
   "source": [
    "import numpy as np\n",
    "import pandas as pd\n",
    "import matplotlib.pyplot as plt\n",
    "from itertools import combinations\n",
    "import bz2\n",
    "\n",
    "from sklearn.linear_model import LinearRegression, Ridge\n",
    "from sklearn.svm import SVR\n",
    "from sklearn.ensemble import RandomForestRegressor, GradientBoostingRegressor, RandomForestClassifier\n",
    "from sklearn.gaussian_process import GaussianProcessRegressor\n",
    "from sklearn.neighbors import KNeighborsClassifier\n",
    "from sklearn.naive_bayes import GaussianNB\n",
    "from sklearn.tree import DecisionTreeRegressor\n",
    "\n",
    "import sys\n",
    "sys.path.append(\"..\")\n",
    "from meta_stream import MetaStream"
   ]
  },
  {
   "cell_type": "code",
   "execution_count": 2,
   "id": "aee17aba",
   "metadata": {},
   "outputs": [],
   "source": [
    "df_rows = 50000\n",
    "file = bz2.open(\"../../data/DataExpo2009/2008.csv.bz2\", 'r')\n",
    "df = pd.read_csv(file, nrows=df_rows)\n",
    "df = df[['DepTime', 'CRSDepTime', 'CRSArrTime', 'ArrDelay', 'Distance']]\n",
    "df = df.dropna(axis=0, how='any')"
   ]
  },
  {
   "cell_type": "code",
   "execution_count": 3,
   "id": "74eefd69",
   "metadata": {},
   "outputs": [],
   "source": [
    "# NOTE: list of regression algorithms\n",
    "models =    [\n",
    "            SVR(),\n",
    "            RandomForestRegressor(random_state=42),\n",
    "            LinearRegression(),\n",
    "#             Ridge(),\n",
    "            GradientBoostingRegressor(random_state=42),\n",
    "            DecisionTreeRegressor()\n",
    "            ]"
   ]
  },
  {
   "cell_type": "code",
   "execution_count": 4,
   "id": "7fc96e54",
   "metadata": {},
   "outputs": [],
   "source": [
    "model_names = {\n",
    "    type(SVR()).__name__: 'SVR',\n",
    "    type(RandomForestRegressor()).__name__: 'RF',\n",
    "    type(LinearRegression()).__name__: 'LR',\n",
    "    type(Ridge()).__name__: 'RIDGE',\n",
    "    type(GradientBoostingRegressor()).__name__: 'GBR',\n",
    "    type(DecisionTreeRegressor()).__name__: 'DTR',\n",
    "}"
   ]
  },
  {
   "cell_type": "markdown",
   "id": "74581a89",
   "metadata": {},
   "source": [
    "Parameter settings for MetaStream (considering a meta-level window size of 200)"
   ]
  },
  {
   "cell_type": "code",
   "execution_count": 5,
   "id": "794cf8f7",
   "metadata": {},
   "outputs": [],
   "source": [
    "base_data_window = 672\n",
    "base_delay_window = 0\n",
    "base_sel_window_size = 24\n",
    "meta_data_window = 200\n",
    "threshold = 0.1"
   ]
  },
  {
   "cell_type": "code",
   "execution_count": 6,
   "id": "8e445e76",
   "metadata": {},
   "outputs": [],
   "source": [
    "pair_list = []\n",
    "metastream_score = []\n",
    "default_score = []"
   ]
  },
  {
   "cell_type": "code",
   "execution_count": 7,
   "id": "5623e103",
   "metadata": {},
   "outputs": [
    {
     "name": "stdout",
     "output_type": "stream",
     "text": [
      "Regressor pair: SVR, RandomForestRegressor\n",
      "Mean score recommended 4.756+-13.837\n",
      "Meta-level score recommended 0.441\n",
      "Mean score default 4.242+-6.035\n",
      "Meta-level score default 0.442\n",
      "Mean score ensemble 11.534+-17.081\n",
      "Mean score regressor 1 74.323\n",
      "Mean score regressor 2 4.242\n",
      "######################################################################\n",
      "Regressor pair: SVR, LinearRegression\n",
      "Mean score recommended 2.970+-12.606\n",
      "Meta-level score recommended 0.362\n",
      "Mean score default 2.742+-12.458\n",
      "Meta-level score default 0.353\n",
      "Mean score ensemble 6.664+-24.603\n",
      "Mean score regressor 1 74.323\n",
      "Mean score regressor 2 2.742\n",
      "######################################################################\n",
      "Regressor pair: SVR, GradientBoostingRegressor\n",
      "Mean score recommended 5.705+-8.305\n",
      "Meta-level score recommended 0.366\n",
      "Mean score default 5.105+-7.517\n",
      "Meta-level score default 0.345\n",
      "Mean score ensemble 12.806+-18.512\n",
      "Mean score regressor 1 74.323\n",
      "Mean score regressor 2 5.105\n",
      "######################################################################\n",
      "Regressor pair: SVR, DecisionTreeRegressor\n",
      "Mean score recommended 9.690+-46.673\n",
      "Meta-level score recommended 0.665\n",
      "Mean score default 1.900+-2.101\n",
      "Meta-level score default 0.824\n",
      "Mean score ensemble 4.971+-7.019\n",
      "Mean score regressor 1 74.323\n",
      "Mean score regressor 2 1.880\n",
      "######################################################################\n",
      "Regressor pair: RandomForestRegressor, LinearRegression\n",
      "Mean score recommended 2.820+-12.352\n",
      "Meta-level score recommended 0.498\n",
      "Mean score default 2.742+-12.458\n",
      "Meta-level score default 0.455\n",
      "Mean score ensemble 2.644+-3.821\n",
      "Mean score regressor 1 4.242\n",
      "Mean score regressor 2 2.742\n",
      "######################################################################\n",
      "Regressor pair: RandomForestRegressor, GradientBoostingRegressor\n",
      "Mean score recommended 4.769+-6.932\n",
      "Meta-level score recommended 0.531\n",
      "Mean score default 4.242+-6.035\n",
      "Meta-level score default 0.712\n",
      "Mean score ensemble 4.898+-6.609\n",
      "Mean score regressor 1 4.242\n",
      "Mean score regressor 2 5.105\n",
      "######################################################################\n",
      "Regressor pair: RandomForestRegressor, DecisionTreeRegressor\n",
      "Mean score recommended 3.996+-5.819\n",
      "Meta-level score recommended 0.336\n",
      "Mean score default 4.242+-6.035\n",
      "Meta-level score default 0.246\n",
      "Mean score ensemble 2.758+-3.538\n",
      "Mean score regressor 1 4.242\n",
      "Mean score regressor 2 1.874\n",
      "######################################################################\n",
      "Regressor pair: LinearRegression, GradientBoostingRegressor\n",
      "Mean score recommended 2.891+-12.218\n",
      "Meta-level score recommended 0.515\n",
      "Mean score default 2.742+-12.458\n",
      "Meta-level score default 0.489\n",
      "Mean score ensemble 2.786+-4.624\n",
      "Mean score regressor 1 2.742\n",
      "Mean score regressor 2 5.105\n",
      "######################################################################\n",
      "Regressor pair: LinearRegression, DecisionTreeRegressor\n",
      "Mean score recommended 2.729+-12.242\n",
      "Meta-level score recommended 0.417\n",
      "Mean score default 2.742+-12.458\n",
      "Meta-level score default 0.273\n",
      "Mean score ensemble 1.799+-1.878\n",
      "Mean score regressor 1 2.742\n",
      "Mean score regressor 2 1.850\n",
      "######################################################################\n",
      "Regressor pair: GradientBoostingRegressor, DecisionTreeRegressor\n",
      "Mean score recommended 4.406+-6.676\n",
      "Meta-level score recommended 0.400\n",
      "Mean score default 5.105+-7.517\n",
      "Meta-level score default 0.273\n",
      "Mean score ensemble 2.924+-3.514\n",
      "Mean score regressor 1 5.105\n",
      "Mean score regressor 2 1.893\n",
      "######################################################################\n"
     ]
    }
   ],
   "source": [
    "meta_learner = RandomForestClassifier()\n",
    "for pair in combinations(models, 2):\n",
    "    reg1_name = type(pair[0]).__name__\n",
    "    reg2_name = type(pair[1]).__name__\n",
    "    print(f'Regressor pair: {reg1_name}, {reg2_name}')\n",
    "    \n",
    "    metas = MetaStream(meta_learner, pair, base_data_window, base_delay_window, base_sel_window_size, meta_data_window, strategy='combination', default=True, ensemble=True, pairs=True)\n",
    "    metas.base_train(data=df, target='ArrDelay')\n",
    "    metas.meta_train(data=df, target='ArrDelay')\n",
    "    \n",
    "    metas.print_results()\n",
    "    base, meta = metas.get_results()\n",
    "    \n",
    "    pair_list.append(f'{model_names[reg1_name]}/{model_names[reg2_name]}')\n",
    "    metastream_score.append(meta['recommended'])\n",
    "    default_score.append(meta['default'])\n",
    "    \n",
    "    print('######################################################################')"
   ]
  },
  {
   "cell_type": "code",
   "execution_count": 8,
   "id": "1853fe1b",
   "metadata": {},
   "outputs": [
    {
     "data": {
      "image/png": "[encoded data removed]",
      "text/plain": [
       "<Figure size 1080x720 with 1 Axes>"
      ]
     },
     "metadata": {
      "needs_background": "light"
     },
     "output_type": "display_data"
    }
   ],
   "source": [
    "bar_width = 0.3\n",
    "bar_locs = np.arange(len(pair_list))\n",
    "\n",
    "plt.figure(figsize=(15,10))\n",
    "plt.bar(bar_locs, metastream_score, width=bar_width, color='r', label='MetaStream')\n",
    "plt.bar(bar_locs+bar_width, default_score, width=bar_width, color='b', label='Default')\n",
    "\n",
    "plt.xticks(bar_locs+bar_width/2, pair_list, fontsize=14, rotation=90)\n",
    "plt.xlabel('Regressor pairs', fontsize=20)\n",
    "\n",
    "plt.yticks(fontsize=14)\n",
    "plt.ylim(0, 1)\n",
    "plt.ylabel('Meta-level error rate', fontsize=20)\n",
    "\n",
    "plt.legend(loc='best', borderpad=1, fontsize=15)\n",
    "plt.show()"
   ]
  },
  {
   "cell_type": "code",
   "execution_count": null,
   "id": "4ca70d05",
   "metadata": {},
   "outputs": [],
   "source": []
  }
 ],
 "metadata": {
  "kernelspec": {
   "display_name": "Python 3 (ipykernel)",
   "language": "python",
   "name": "python3"
  },
  "language_info": {
   "codemirror_mode": {
    "name": "ipython",
    "version": 3
   },
   "file_extension": ".py",
   "mimetype": "text/x-python",
   "name": "python",
   "nbconvert_exporter": "python",
   "pygments_lexer": "ipython3",
   "version": "3.8.8"
  }
 },
 "nbformat": 4,
 "nbformat_minor": 5
}
