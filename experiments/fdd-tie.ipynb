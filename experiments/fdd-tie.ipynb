{
 "cells": [
  {
   "cell_type": "code",
   "execution_count": 1,
   "id": "daadba2b",
   "metadata": {},
   "outputs": [],
   "source": [
    "import numpy as np\n",
    "import pandas as pd\n",
    "import matplotlib.pyplot as plt\n",
    "from itertools import combinations\n",
    "import bz2\n",
    "\n",
    "from sklearn.linear_model import LinearRegression, Ridge\n",
    "from sklearn.svm import SVR\n",
    "from sklearn.ensemble import RandomForestRegressor, GradientBoostingRegressor, RandomForestClassifier\n",
    "from sklearn.gaussian_process import GaussianProcessRegressor\n",
    "from sklearn.neighbors import KNeighborsClassifier\n",
    "from sklearn.naive_bayes import GaussianNB\n",
    "from sklearn.tree import DecisionTreeRegressor\n",
    "\n",
    "import sys\n",
    "sys.path.append(\"..\")\n",
    "from meta_stream import MetaStream"
   ]
  },
  {
   "cell_type": "code",
   "execution_count": 2,
   "id": "aee17aba",
   "metadata": {},
   "outputs": [],
   "source": [
    "df_rows = 50000\n",
    "file = bz2.open(\"../../data/DataExpo2009/2008.csv.bz2\", 'r')\n",
    "df = pd.read_csv(file, nrows=df_rows)\n",
    "df = df[['DepTime', 'CRSDepTime', 'CRSArrTime', 'ArrDelay', 'Distance']]\n",
    "df = df.dropna(axis=0, how='any')"
   ]
  },
  {
   "cell_type": "code",
   "execution_count": 3,
   "id": "74eefd69",
   "metadata": {},
   "outputs": [],
   "source": [
    "# NOTE: list of regression algorithms\n",
    "models =    [\n",
    "            SVR(),\n",
    "            RandomForestRegressor(random_state=42),\n",
    "            LinearRegression(),\n",
    "#             Ridge(),\n",
    "            GradientBoostingRegressor(random_state=42),\n",
    "            DecisionTreeRegressor()\n",
    "            ]"
   ]
  },
  {
   "cell_type": "code",
   "execution_count": 4,
   "id": "7fc96e54",
   "metadata": {},
   "outputs": [],
   "source": [
    "model_names = {\n",
    "    type(SVR()).__name__: 'SVR',\n",
    "    type(RandomForestRegressor()).__name__: 'RF',\n",
    "    type(LinearRegression()).__name__: 'LR',\n",
    "    type(Ridge()).__name__: 'RIDGE',\n",
    "    type(GradientBoostingRegressor()).__name__: 'GBR',\n",
    "    type(DecisionTreeRegressor()).__name__: 'DTR',\n",
    "}"
   ]
  },
  {
   "cell_type": "markdown",
   "id": "74581a89",
   "metadata": {},
   "source": [
    "Parameter settings for MetaStream (considering a meta-level window size of 200)"
   ]
  },
  {
   "cell_type": "code",
   "execution_count": 5,
   "id": "794cf8f7",
   "metadata": {},
   "outputs": [],
   "source": [
    "base_data_window = 1000\n",
    "base_delay_window = 2\n",
    "base_sel_window_size = 25\n",
    "meta_data_window = 200\n",
    "threshold = 0.1"
   ]
  },
  {
   "cell_type": "code",
   "execution_count": 6,
   "id": "8e445e76",
   "metadata": {},
   "outputs": [],
   "source": [
    "pair_list = []\n",
    "metastream_score = []\n",
    "default_score = []"
   ]
  },
  {
   "cell_type": "code",
   "execution_count": 7,
   "id": "5623e103",
   "metadata": {},
   "outputs": [
    {
     "name": "stdout",
     "output_type": "stream",
     "text": [
      "Regressor pair: SVR, RandomForestRegressor\n",
      "Mean score recommended 4.008+-5.710\n",
      "Meta-level score recommended 0.351\n",
      "Mean score default 4.008+-5.710\n",
      "Meta-level score default 0.351\n",
      "Mean score ensemble 10.977+-16.018\n",
      "Mean score regressor 1 73.529\n",
      "Mean score regressor 2 4.008\n",
      "######################################################################\n",
      "Regressor pair: SVR, LinearRegression\n",
      "Mean score recommended 3.274+-12.191\n",
      "Meta-level score recommended 0.256\n",
      "Mean score default 3.192+-11.789\n",
      "Meta-level score default 0.255\n",
      "Mean score ensemble 7.186+-19.608\n",
      "Mean score regressor 1 73.529\n",
      "Mean score regressor 2 3.192\n",
      "######################################################################\n",
      "Regressor pair: SVR, GradientBoostingRegressor\n",
      "Mean score recommended 5.561+-9.655\n",
      "Meta-level score recommended 0.318\n",
      "Mean score default 5.561+-9.655\n",
      "Meta-level score default 0.318\n",
      "Mean score ensemble 13.563+-24.145\n",
      "Mean score regressor 1 73.529\n",
      "Mean score regressor 2 5.561\n",
      "######################################################################\n",
      "Regressor pair: SVR, DecisionTreeRegressor\n",
      "Mean score recommended 5.853+-31.050\n",
      "Meta-level score recommended 0.648\n",
      "Mean score default 1.911+-2.533\n",
      "Meta-level score default 0.674\n",
      "Mean score ensemble 5.128+-7.591\n",
      "Mean score regressor 1 73.529\n",
      "Mean score regressor 2 1.893\n",
      "######################################################################\n",
      "Regressor pair: RandomForestRegressor, LinearRegression\n",
      "Mean score recommended 3.342+-11.824\n",
      "Meta-level score recommended 0.396\n",
      "Mean score default 3.192+-11.789\n",
      "Meta-level score default 0.364\n",
      "Mean score ensemble 2.691+-3.528\n",
      "Mean score regressor 1 4.008\n",
      "Mean score regressor 2 3.192\n",
      "######################################################################\n",
      "Regressor pair: RandomForestRegressor, GradientBoostingRegressor\n",
      "Mean score recommended 4.587+-6.412\n",
      "Meta-level score recommended 0.634\n",
      "Mean score default 4.008+-5.710\n",
      "Meta-level score default 0.690\n",
      "Mean score ensemble 5.020+-7.869\n",
      "Mean score regressor 1 4.008\n",
      "Mean score regressor 2 5.561\n",
      "######################################################################\n",
      "Regressor pair: RandomForestRegressor, DecisionTreeRegressor\n",
      "Mean score recommended 3.945+-5.696\n",
      "Meta-level score recommended 0.169\n",
      "Mean score default 4.008+-5.710\n",
      "Meta-level score default 0.148\n",
      "Mean score ensemble 2.750+-3.981\n",
      "Mean score regressor 1 4.008\n",
      "Mean score regressor 2 1.888\n",
      "######################################################################\n",
      "Regressor pair: LinearRegression, GradientBoostingRegressor\n",
      "Mean score recommended 3.178+-11.728\n",
      "Meta-level score recommended 0.388\n",
      "Mean score default 3.192+-11.789\n",
      "Meta-level score default 0.381\n",
      "Mean score ensemble 2.974+-4.292\n",
      "Mean score regressor 1 3.192\n",
      "Mean score regressor 2 5.561\n",
      "######################################################################\n",
      "Regressor pair: LinearRegression, DecisionTreeRegressor\n",
      "Mean score recommended 3.206+-11.784\n",
      "Meta-level score recommended 0.235\n",
      "Mean score default 3.192+-11.789\n",
      "Meta-level score default 0.158\n",
      "Mean score ensemble 1.839+-1.876\n",
      "Mean score regressor 1 3.192\n",
      "Mean score regressor 2 1.845\n",
      "######################################################################\n",
      "Regressor pair: GradientBoostingRegressor, DecisionTreeRegressor\n",
      "Mean score recommended 5.494+-9.638\n",
      "Meta-level score recommended 0.180\n",
      "Mean score default 5.561+-9.655\n",
      "Meta-level score default 0.169\n",
      "Mean score ensemble 2.999+-4.544\n",
      "Mean score regressor 1 5.561\n",
      "Mean score regressor 2 1.889\n",
      "######################################################################\n"
     ]
    }
   ],
   "source": [
    "meta_learner = RandomForestClassifier()\n",
    "for pair in combinations(models, 2):\n",
    "    reg1_name = type(pair[0]).__name__\n",
    "    reg2_name = type(pair[1]).__name__\n",
    "    print(f'Regressor pair: {reg1_name}, {reg2_name}')\n",
    "    \n",
    "    metas = MetaStream(meta_learner, pair, base_data_window, base_delay_window, base_sel_window_size, meta_data_window, strategy='tie', default=True, ensemble=True, pairs=True, threshold=threshold)\n",
    "    metas.base_train(data=df, target='ArrDelay')\n",
    "    metas.meta_train(data=df, target='ArrDelay')\n",
    "    \n",
    "    metas.print_results()\n",
    "    base, meta = metas.get_results()\n",
    "    \n",
    "    pair_list.append(f'{model_names[reg1_name]}/{model_names[reg2_name]}')\n",
    "    metastream_score.append(meta['recommended'])\n",
    "    default_score.append(meta['default'])\n",
    "    \n",
    "    print('######################################################################')"
   ]
  },
  {
   "cell_type": "code",
   "execution_count": 8,
   "id": "1853fe1b",
   "metadata": {},
   "outputs": [
    {
     "data": {
      "image/png": "[encoded data removed]",
      "text/plain": [
       "<Figure size 1080x720 with 1 Axes>"
      ]
     },
     "metadata": {
      "needs_background": "light"
     },
     "output_type": "display_data"
    }
   ],
   "source": [
    "bar_width = 0.3\n",
    "bar_locs = np.arange(len(pair_list))\n",
    "\n",
    "plt.figure(figsize=(15,10))\n",
    "plt.bar(bar_locs, metastream_score, width=bar_width, color='r', label='MetaStream')\n",
    "plt.bar(bar_locs+bar_width, default_score, width=bar_width, color='b', label='Default')\n",
    "\n",
    "plt.xticks(bar_locs+bar_width/2, pair_list, fontsize=14, rotation=90)\n",
    "plt.xlabel('Regressor pairs', fontsize=20)\n",
    "\n",
    "plt.yticks(fontsize=14)\n",
    "plt.ylim(0, 1)\n",
    "plt.ylabel('Meta-level error rate', fontsize=20)\n",
    "\n",
    "plt.legend(loc='best', borderpad=1, fontsize=15)\n",
    "plt.show()"
   ]
  },
  {
   "cell_type": "code",
   "execution_count": null,
   "id": "4ca70d05",
   "metadata": {},
   "outputs": [],
   "source": []
  }
 ],
 "metadata": {
  "kernelspec": {
   "display_name": "Python 3 (ipykernel)",
   "language": "python",
   "name": "python3"
  },
  "language_info": {
   "codemirror_mode": {
    "name": "ipython",
    "version": 3
   },
   "file_extension": ".py",
   "mimetype": "text/x-python",
   "name": "python",
   "nbconvert_exporter": "python",
   "pygments_lexer": "ipython3",
   "version": "3.8.8"
  }
 },
 "nbformat": 4,
 "nbformat_minor": 5
}
