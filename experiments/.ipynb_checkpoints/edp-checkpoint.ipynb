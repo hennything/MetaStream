{
 "cells": [
  {
   "cell_type": "code",
   "execution_count": 4,
   "id": "62e7b6ab",
   "metadata": {},
   "outputs": [],
   "source": [
    "import pandas as pd\n",
    "\n",
    "import sys\n",
    "sys.path.append(\"..\")\n",
    "from meta_stream import MetaStream"
   ]
  },
  {
   "cell_type": "code",
   "execution_count": null,
   "id": "a6fd3e03",
   "metadata": {},
   "outputs": [],
   "source": [
    "from sklearn.linear_model import LinearRegression, Ridge, Lasso, SGDClassifier\n",
    "from sklearn.ensemble import RandomForestRegressor, GradientBoostingRegressor\n",
    "from sklearn.gaussian_process import GaussianProcessRegressor"
   ]
  },
  {
   "cell_type": "code",
   "execution_count": 5,
   "id": "752cff82",
   "metadata": {},
   "outputs": [],
   "source": [
    "df = pd.read_csv(\"../../data/electricity-normalized.csv\")\n",
    "df = df[['period', 'nswprice', 'nswdemand', 'vicprice', 'vicdemand', 'transfer']]"
   ]
  },
  {
   "cell_type": "code",
   "execution_count": null,
   "id": "2fe23054",
   "metadata": {},
   "outputs": [],
   "source": []
  }
 ],
 "metadata": {
  "kernelspec": {
   "display_name": "adm_env",
   "language": "python",
   "name": "adm_env"
  },
  "language_info": {
   "codemirror_mode": {
    "name": "ipython",
    "version": 3
   },
   "file_extension": ".py",
   "mimetype": "text/x-python",
   "name": "python",
   "nbconvert_exporter": "python",
   "pygments_lexer": "ipython3",
   "version": "3.8.5"
  }
 },
 "nbformat": 4,
 "nbformat_minor": 5
}
